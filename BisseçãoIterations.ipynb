{
  "nbformat": 4,
  "nbformat_minor": 0,
  "metadata": {
    "colab": {
      "provenance": []
    },
    "kernelspec": {
      "name": "python3",
      "display_name": "Python 3"
    },
    "language_info": {
      "name": "python"
    }
  },
  "cells": [
    {
      "cell_type": "code",
      "source": [
        "import numpy as algebrando"
      ],
      "metadata": {
        "id": "gXe1FUxnFxJD"
      },
      "execution_count": 1,
      "outputs": []
    },
    {
      "cell_type": "code",
      "execution_count": 3,
      "metadata": {
        "id": "6m49n4WDi7a6"
      },
      "outputs": [],
      "source": [
        "def bisseccao(f, a, b, tol=1e-2, max_iter=100):\n",
        "    if f(a) * f(b) >= 0:\n",
        "        return None\n",
        "    for i in range(max_iter):\n",
        "        c = (a + b) / 2\n",
        "        if abs(b - a) / 2 < tol:\n",
        "            return c, i, abs(b - a) / 2\n",
        "        if f(a) * f(c) < 0:\n",
        "            b = c\n",
        "        else:\n",
        "            a = c\n",
        "    return None"
      ]
    },
    {
      "cell_type": "markdown",
      "source": [
        "# Exemplo (f(x) = x^2 - 2, raiz ~1.414)"
      ],
      "metadata": {
        "id": "ABVQtMHnF3Ie"
      }
    },
    {
      "cell_type": "code",
      "source": [
        "f = lambda x: x**2 - 2\n",
        "a, b = 1, 2\n",
        "raiz, iteracoes, erro = bisseccao(f, a, b)\n",
        "print(f\"Raiz aproximada: {raiz:.6f}, Iterações: {iteracoes}, Erro: {erro:.6e}\")"
      ],
      "metadata": {
        "colab": {
          "base_uri": "https://localhost:8080/"
        },
        "id": "iiUtHJfkF-Cy",
        "outputId": "038af4c7-be40-487c-d9cc-3c1dafa0270f"
      },
      "execution_count": 4,
      "outputs": [
        {
          "output_type": "stream",
          "name": "stdout",
          "text": [
            "Raiz aproximada: 1.414062, Iterações: 6, Erro: 7.812500e-03\n"
          ]
        }
      ]
    }
  ]
}